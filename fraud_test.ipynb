{
 "cells": [
  {
   "cell_type": "code",
   "execution_count": 20,
   "id": "ecbdb9da",
   "metadata": {},
   "outputs": [],
   "source": [
    "import requests\n",
    "import ipywidgets as widgets\n",
    "from IPython.display import display\n",
    "\n",
    "text_amt = widgets.Text(\n",
    "    value = '',\n",
    "    placeholder = 'Type the transaction amount',\n",
    "    description = 'Transaction Amount',\n",
    "    disables = False)\n",
    "\n",
    "text_amt.style.description_width = '150px'\n",
    "text_amt.layout.width = '400px'\n",
    "\n",
    "\n",
    "\n",
    "text_city_pop = widgets.Text(\n",
    "    value = '',\n",
    "    placeholder = 'Type the city population',\n",
    "    description = 'City Population',\n",
    "    disables = False)\n",
    "\n",
    "text_city_pop.style.description_width = '150px'\n",
    "text_city_pop.layout.width = '400px'\n",
    "\n",
    "gender_options = [('Please select', ''), ('Male', 1), ('Female', 0)]\n",
    "gender_dropdown = widgets.Dropdown(description='Gender', options=gender_options, layout=widgets.Layout(width='200px'))\n",
    "\n",
    "gender_dropdown.style.description_width = '150px'\n",
    "gender_dropdown.layout.width = '400px'\n",
    "\n",
    "\n",
    "time_options = [('Please select', ''), ('Weekend (Sat. & Sun.) 00:00-05:00', 1), ('Otherwise', 0)]\n",
    "time_dropdown = widgets.Dropdown(description='Transaction Time', options=time_options, layout=widgets.Layout(width='300px'))\n",
    "\n",
    "time_dropdown.style.description_width = '150px'\n",
    "time_dropdown.layout.width = '400px'\n",
    "\n",
    "button = widgets.Button(description = 'Click when filled')\n",
    "\n",
    "button.style.description_width = '150px'\n",
    "button.layout.width = '400px'\n",
    "\n",
    "def my_function(button):\n",
    "\n",
    "    url = 'https://us-central1-silent-post-385817.cloudfunctions.net/fraud_test'\n",
    "    r = requests.post(url, {\"amt\" : str(text_amt).split(\"value='\")[1].split(\"'\")[0],\n",
    "    \"gender\" : gender_dropdown.value,\n",
    "    \"city_pop\" : str(text_city_pop).split(\"value='\")[1].split(\"'\")[0],\n",
    "    'time_var': time_dropdown.value})\n",
    "    \n",
    "    print(r.text)\n",
    "\n",
    "\n",
    "button.on_click(my_function)"
   ]
  },
  {
   "cell_type": "code",
   "execution_count": 21,
   "id": "599092a6",
   "metadata": {},
   "outputs": [
    {
     "data": {
      "application/vnd.jupyter.widget-view+json": {
       "model_id": "f11d972be4f74627a5192212864caa13",
       "version_major": 2,
       "version_minor": 0
      },
      "text/plain": [
       "Dropdown(description='Gender', layout=Layout(width='400px'), options=(('Please select', ''), ('Male', 1), ('Fe…"
      ]
     },
     "metadata": {},
     "output_type": "display_data"
    },
    {
     "data": {
      "application/vnd.jupyter.widget-view+json": {
       "model_id": "84b5247929384704a71edb6216fe355a",
       "version_major": 2,
       "version_minor": 0
      },
      "text/plain": [
       "Text(value='', description='City Population', layout=Layout(width='400px'), placeholder='Type the city populat…"
      ]
     },
     "metadata": {},
     "output_type": "display_data"
    },
    {
     "data": {
      "application/vnd.jupyter.widget-view+json": {
       "model_id": "6a456c67cced4ab7bf19fded469a1ffb",
       "version_major": 2,
       "version_minor": 0
      },
      "text/plain": [
       "Text(value='', description='Transaction Amount', layout=Layout(width='400px'), placeholder='Type the transacti…"
      ]
     },
     "metadata": {},
     "output_type": "display_data"
    },
    {
     "data": {
      "application/vnd.jupyter.widget-view+json": {
       "model_id": "1744c982081d491d9e0b6f670084d2eb",
       "version_major": 2,
       "version_minor": 0
      },
      "text/plain": [
       "Dropdown(description='Transaction Time', layout=Layout(width='400px'), options=(('Please select', ''), ('Weeke…"
      ]
     },
     "metadata": {},
     "output_type": "display_data"
    },
    {
     "data": {
      "application/vnd.jupyter.widget-view+json": {
       "model_id": "1f21402b6c9a46b684f0f8088e581a9c",
       "version_major": 2,
       "version_minor": 0
      },
      "text/plain": [
       "Button(description='Click when filled', layout=Layout(width='400px'), style=ButtonStyle())"
      ]
     },
     "metadata": {},
     "output_type": "display_data"
    }
   ],
   "source": [
    "display(gender_dropdown)\n",
    "display(text_city_pop)\n",
    "display(text_amt)\n",
    "display(time_dropdown)\n",
    "\n",
    "display(button)"
   ]
  }
 ],
 "metadata": {
  "kernelspec": {
   "display_name": "Python 3 (ipykernel)",
   "language": "python",
   "name": "python3"
  },
  "language_info": {
   "codemirror_mode": {
    "name": "ipython",
    "version": 3
   },
   "file_extension": ".py",
   "mimetype": "text/x-python",
   "name": "python",
   "nbconvert_exporter": "python",
   "pygments_lexer": "ipython3",
   "version": "3.9.12"
  }
 },
 "nbformat": 4,
 "nbformat_minor": 5
}
