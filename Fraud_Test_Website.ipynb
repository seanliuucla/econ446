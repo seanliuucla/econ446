{
 "cells": [
  {
   "cell_type": "code",
   "execution_count": 4,
   "id": "00d6b0b4",
   "metadata": {},
   "outputs": [
    {
     "data": {
      "application/vnd.jupyter.widget-view+json": {
       "model_id": "3f789451e24a4de1a7ff5322a7c143f4",
       "version_major": 2,
       "version_minor": 0
      },
      "text/plain": [
       "Dropdown(description='Gender', layout=Layout(width='400px'), options=(('Please select', ''), ('Male', 1), ('Fe…"
      ]
     },
     "metadata": {},
     "output_type": "display_data"
    },
    {
     "data": {
      "application/vnd.jupyter.widget-view+json": {
       "model_id": "da8fc65f32ab4cdba5fe969231e6906c",
       "version_major": 2,
       "version_minor": 0
      },
      "text/plain": [
       "Text(value='', description='City Population', layout=Layout(width='400px'), placeholder='Type the city populat…"
      ]
     },
     "metadata": {},
     "output_type": "display_data"
    },
    {
     "data": {
      "application/vnd.jupyter.widget-view+json": {
       "model_id": "e1f6dba13c164b16bb970529f0f6ae99",
       "version_major": 2,
       "version_minor": 0
      },
      "text/plain": [
       "Text(value='', description='Transaction Amount', layout=Layout(width='400px'), placeholder='Type the transacti…"
      ]
     },
     "metadata": {},
     "output_type": "display_data"
    },
    {
     "data": {
      "application/vnd.jupyter.widget-view+json": {
       "model_id": "005fc03b9fdf4f83b7ca573332f7fc85",
       "version_major": 2,
       "version_minor": 0
      },
      "text/plain": [
       "Dropdown(description='Transaction Time', layout=Layout(width='400px'), options=(('Please select', ''), ('Weeke…"
      ]
     },
     "metadata": {},
     "output_type": "display_data"
    },
    {
     "data": {
      "application/vnd.jupyter.widget-view+json": {
       "model_id": "f5847e1998464659bf115c7bb76bc4ee",
       "version_major": 2,
       "version_minor": 0
      },
      "text/plain": [
       "Button(description='Click when filled', layout=Layout(width='400px'), style=ButtonStyle())"
      ]
     },
     "metadata": {},
     "output_type": "display_data"
    },
    {
     "name": "stdout",
     "output_type": "stream",
     "text": [
      "{\"Prediction\": \"0\", \"Probability of Fraud\": \"4.004%\"}\n"
     ]
    }
   ],
   "source": [
    "%run fraud_test.ipynb"
   ]
  }
 ],
 "metadata": {
  "kernelspec": {
   "display_name": "Python 3 (ipykernel)",
   "language": "python",
   "name": "python3"
  },
  "language_info": {
   "codemirror_mode": {
    "name": "ipython",
    "version": 3
   },
   "file_extension": ".py",
   "mimetype": "text/x-python",
   "name": "python",
   "nbconvert_exporter": "python",
   "pygments_lexer": "ipython3",
   "version": "3.9.12"
  }
 },
 "nbformat": 4,
 "nbformat_minor": 5
}
